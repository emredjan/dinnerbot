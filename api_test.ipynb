{
 "cells": [
  {
   "cell_type": "code",
   "execution_count": 2,
   "metadata": {
    "ExecuteTime": {
     "end_time": "2017-05-19T21:00:58.001744Z",
     "start_time": "2017-05-19T21:00:57.992188Z"
    },
    "collapsed": true
   },
   "outputs": [],
   "source": [
    "import requests\n",
    "from settings import GOOGLE_API_KEY"
   ]
  },
  {
   "cell_type": "code",
   "execution_count": 54,
   "metadata": {
    "ExecuteTime": {
     "end_time": "2017-05-19T21:24:32.130398Z",
     "start_time": "2017-05-19T21:24:32.120181Z"
    }
   },
   "outputs": [],
   "source": [
    "query = 'amsterdam steakhouse'\n",
    "query = query.replace(' ', '+')\n",
    "url = 'https://maps.googleapis.com/maps/api/place/textsearch/json?query=' + query + '&key=' + GOOGLE_API_KEY"
   ]
  },
  {
   "cell_type": "code",
   "execution_count": 35,
   "metadata": {
    "ExecuteTime": {
     "end_time": "2017-05-19T21:13:24.607529Z",
     "start_time": "2017-05-19T21:13:24.336177Z"
    }
   },
   "outputs": [],
   "source": [
    "resp = requests.get(url)\n",
    "output = resp.json()"
   ]
  },
  {
   "cell_type": "code",
   "execution_count": 51,
   "metadata": {
    "ExecuteTime": {
     "end_time": "2017-05-19T21:20:58.447326Z",
     "start_time": "2017-05-19T21:20:58.428863Z"
    }
   },
   "outputs": [
    {
     "name": "stdout",
     "output_type": "stream",
     "text": [
      "La Luna Steakhouse Grill: 4.3\n",
      "Piet de Leeuw: 4.2\n",
      "Restaurant Toro Dorado/Quality Steaks: 4.3\n",
      "De Nachtwacht: 4.4\n",
      "MR PORTER: 4.2\n",
      "Al Argentino Steakhouse: 3.5\n",
      "Dam Steakhouse: 3.1\n",
      "Maximus Steakhouse: 3.7\n",
      "Steakhouse Grill Tango: 4\n",
      "New York Steak House: 4\n",
      "Buffalo Steakhouse: 4.2\n",
      "Steakhouse San Pedro: 4.1\n",
      "Loetje Oost: 4.4\n",
      "Argentinian Steak House: 3.1\n",
      "Fred's Steakhouse: 3.8\n",
      "Amigo Restaurant: 4.8\n",
      "Pizzeria Steakhouse La Roma: 3.6\n",
      "Steakhouse Pizzeria Oost: 4.3\n",
      "Steakhouse Pizzeria Baarsjes: 4.5\n",
      "Steakhouse \"Jaffa\": 4.4\n"
     ]
    }
   ],
   "source": [
    "for i in output['results']:\n",
    "    print(i['name'] + ':', i['rating'])"
   ]
  }
 ],
 "metadata": {
  "kernelspec": {
   "display_name": "Python 3",
   "language": "python",
   "name": "python3"
  },
  "language_info": {
   "codemirror_mode": {
    "name": "ipython",
    "version": 3
   },
   "file_extension": ".py",
   "mimetype": "text/x-python",
   "name": "python",
   "nbconvert_exporter": "python",
   "pygments_lexer": "ipython3",
   "version": "3.6.1"
  }
 },
 "nbformat": 4,
 "nbformat_minor": 2
}
